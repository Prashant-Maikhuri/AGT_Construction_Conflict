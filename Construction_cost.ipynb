{
 "cells": [
  {
   "cell_type": "code",
   "execution_count": 1,
   "metadata": {},
   "outputs": [],
   "source": [
    "import pandas as pd\n",
    "import numpy as np"
   ]
  },
  {
   "cell_type": "code",
   "execution_count": 2,
   "metadata": {},
   "outputs": [],
   "source": [
    "import matplotlib.pyplot as plt\n",
    "import seaborn as sns\n",
    "\n",
    "%matplotlib inline"
   ]
  },
  {
   "cell_type": "code",
   "execution_count": 3,
   "metadata": {},
   "outputs": [],
   "source": [
    "data1 = pd.read_csv(\"Construction_cost.csv\")"
   ]
  },
  {
   "cell_type": "code",
   "execution_count": 4,
   "metadata": {},
   "outputs": [
    {
     "data": {
      "text/html": [
       "<div>\n",
       "<style scoped>\n",
       "    .dataframe tbody tr th:only-of-type {\n",
       "        vertical-align: middle;\n",
       "    }\n",
       "\n",
       "    .dataframe tbody tr th {\n",
       "        vertical-align: top;\n",
       "    }\n",
       "\n",
       "    .dataframe thead th {\n",
       "        text-align: right;\n",
       "    }\n",
       "</style>\n",
       "<table border=\"1\" class=\"dataframe\">\n",
       "  <thead>\n",
       "    <tr style=\"text-align: right;\">\n",
       "      <th></th>\n",
       "      <th>County</th>\n",
       "      <th>Data Generation Date</th>\n",
       "      <th>OSHPD Project Status</th>\n",
       "      <th>Total Costs of OSHPD Projects</th>\n",
       "      <th>Number of OSHPD Projects</th>\n",
       "      <th>Collection of Counties</th>\n",
       "    </tr>\n",
       "  </thead>\n",
       "  <tbody>\n",
       "    <tr>\n",
       "      <th>0</th>\n",
       "      <td>01 - Alameda</td>\n",
       "      <td>9/30/2013</td>\n",
       "      <td>In Review</td>\n",
       "      <td>5.091432e+07</td>\n",
       "      <td>45</td>\n",
       "      <td>Bay Area Counties</td>\n",
       "    </tr>\n",
       "    <tr>\n",
       "      <th>1</th>\n",
       "      <td>01 - Alameda</td>\n",
       "      <td>9/30/2013</td>\n",
       "      <td>Pending Construction</td>\n",
       "      <td>8.401825e+08</td>\n",
       "      <td>126</td>\n",
       "      <td>Bay Area Counties</td>\n",
       "    </tr>\n",
       "    <tr>\n",
       "      <th>2</th>\n",
       "      <td>01 - Alameda</td>\n",
       "      <td>9/30/2013</td>\n",
       "      <td>In Construction</td>\n",
       "      <td>9.943529e+08</td>\n",
       "      <td>181</td>\n",
       "      <td>Bay Area Counties</td>\n",
       "    </tr>\n",
       "    <tr>\n",
       "      <th>3</th>\n",
       "      <td>01 - Alameda</td>\n",
       "      <td>9/30/2013</td>\n",
       "      <td>In Closure</td>\n",
       "      <td>6.525593e+07</td>\n",
       "      <td>81</td>\n",
       "      <td>Bay Area Counties</td>\n",
       "    </tr>\n",
       "    <tr>\n",
       "      <th>4</th>\n",
       "      <td>02 - Alpine</td>\n",
       "      <td>9/30/2013</td>\n",
       "      <td>In Review</td>\n",
       "      <td>0.000000e+00</td>\n",
       "      <td>0</td>\n",
       "      <td>NaN</td>\n",
       "    </tr>\n",
       "  </tbody>\n",
       "</table>\n",
       "</div>"
      ],
      "text/plain": [
       "         County Data Generation Date  OSHPD Project Status  \\\n",
       "0  01 - Alameda            9/30/2013             In Review   \n",
       "1  01 - Alameda            9/30/2013  Pending Construction   \n",
       "2  01 - Alameda            9/30/2013       In Construction   \n",
       "3  01 - Alameda            9/30/2013            In Closure   \n",
       "4   02 - Alpine            9/30/2013             In Review   \n",
       "\n",
       "   Total Costs of OSHPD Projects  Number of OSHPD Projects  \\\n",
       "0                   5.091432e+07                        45   \n",
       "1                   8.401825e+08                       126   \n",
       "2                   9.943529e+08                       181   \n",
       "3                   6.525593e+07                        81   \n",
       "4                   0.000000e+00                         0   \n",
       "\n",
       "  Collection of Counties  \n",
       "0      Bay Area Counties  \n",
       "1      Bay Area Counties  \n",
       "2      Bay Area Counties  \n",
       "3      Bay Area Counties  \n",
       "4                    NaN  "
      ]
     },
     "execution_count": 4,
     "metadata": {},
     "output_type": "execute_result"
    }
   ],
   "source": [
    "data1.head()"
   ]
  },
  {
   "cell_type": "code",
   "execution_count": 17,
   "metadata": {},
   "outputs": [
    {
     "data": {
      "text/plain": [
       "Text(0.5, 1.0, 'the cost distribution of Total expenses')"
      ]
     },
     "execution_count": 17,
     "metadata": {},
     "output_type": "execute_result"
    },
    {
     "data": {
      "image/png": "[encoded data removed]",
      "text/plain": [
       "<Figure size 432x288 with 1 Axes>"
      ]
     },
     "metadata": {
      "needs_background": "light"
     },
     "output_type": "display_data"
    }
   ],
   "source": [
    "plt.plot(data1[\"Total Costs of OSHPD Projects\"])\n",
    "plt.xlabel(\"cost range\")\n",
    "plt.ylabel(\"years\")\n",
    "plt.title(\"the cost distribution of Total expenses\")"
   ]
  },
  {
   "cell_type": "code",
   "execution_count": 6,
   "metadata": {},
   "outputs": [
    {
     "data": {
      "text/plain": [
       "array(['In Review', 'Pending Construction', 'In Construction',\n",
       "       'In Closure'], dtype=object)"
      ]
     },
     "execution_count": 6,
     "metadata": {},
     "output_type": "execute_result"
    }
   ],
   "source": [
    "data1[\"OSHPD Project Status\"].unique()"
   ]
  },
  {
   "cell_type": "code",
   "execution_count": 12,
   "metadata": {},
   "outputs": [
    {
     "data": {
      "text/html": [
       "<div>\n",
       "<style scoped>\n",
       "    .dataframe tbody tr th:only-of-type {\n",
       "        vertical-align: middle;\n",
       "    }\n",
       "\n",
       "    .dataframe tbody tr th {\n",
       "        vertical-align: top;\n",
       "    }\n",
       "\n",
       "    .dataframe thead th {\n",
       "        text-align: right;\n",
       "    }\n",
       "</style>\n",
       "<table border=\"1\" class=\"dataframe\">\n",
       "  <thead>\n",
       "    <tr style=\"text-align: right;\">\n",
       "      <th></th>\n",
       "      <th>County</th>\n",
       "      <th>Data Generation Date</th>\n",
       "      <th>OSHPD Project Status</th>\n",
       "      <th>Total Costs of OSHPD Projects</th>\n",
       "      <th>Number of OSHPD Projects</th>\n",
       "      <th>Collection of Counties</th>\n",
       "    </tr>\n",
       "  </thead>\n",
       "  <tbody>\n",
       "    <tr>\n",
       "      <th>2</th>\n",
       "      <td>01 - Alameda</td>\n",
       "      <td>9/30/2013</td>\n",
       "      <td>In Construction</td>\n",
       "      <td>9.943529e+08</td>\n",
       "      <td>181</td>\n",
       "      <td>Bay Area Counties</td>\n",
       "    </tr>\n",
       "    <tr>\n",
       "      <th>6</th>\n",
       "      <td>02 - Alpine</td>\n",
       "      <td>9/30/2013</td>\n",
       "      <td>In Construction</td>\n",
       "      <td>0.000000e+00</td>\n",
       "      <td>0</td>\n",
       "      <td>NaN</td>\n",
       "    </tr>\n",
       "    <tr>\n",
       "      <th>10</th>\n",
       "      <td>03 - Amador</td>\n",
       "      <td>9/30/2013</td>\n",
       "      <td>In Construction</td>\n",
       "      <td>1.793567e+06</td>\n",
       "      <td>9</td>\n",
       "      <td>NaN</td>\n",
       "    </tr>\n",
       "    <tr>\n",
       "      <th>14</th>\n",
       "      <td>04 - Butte</td>\n",
       "      <td>9/30/2013</td>\n",
       "      <td>In Construction</td>\n",
       "      <td>9.056170e+07</td>\n",
       "      <td>15</td>\n",
       "      <td>NaN</td>\n",
       "    </tr>\n",
       "    <tr>\n",
       "      <th>18</th>\n",
       "      <td>05 - Calaveras</td>\n",
       "      <td>9/30/2013</td>\n",
       "      <td>In Construction</td>\n",
       "      <td>0.000000e+00</td>\n",
       "      <td>0</td>\n",
       "      <td>NaN</td>\n",
       "    </tr>\n",
       "  </tbody>\n",
       "</table>\n",
       "</div>"
      ],
      "text/plain": [
       "            County Data Generation Date OSHPD Project Status  \\\n",
       "2     01 - Alameda            9/30/2013      In Construction   \n",
       "6      02 - Alpine            9/30/2013      In Construction   \n",
       "10     03 - Amador            9/30/2013      In Construction   \n",
       "14      04 - Butte            9/30/2013      In Construction   \n",
       "18  05 - Calaveras            9/30/2013      In Construction   \n",
       "\n",
       "    Total Costs of OSHPD Projects  Number of OSHPD Projects  \\\n",
       "2                    9.943529e+08                       181   \n",
       "6                    0.000000e+00                         0   \n",
       "10                   1.793567e+06                         9   \n",
       "14                   9.056170e+07                        15   \n",
       "18                   0.000000e+00                         0   \n",
       "\n",
       "   Collection of Counties  \n",
       "2       Bay Area Counties  \n",
       "6                     NaN  \n",
       "10                    NaN  \n",
       "14                    NaN  \n",
       "18                    NaN  "
      ]
     },
     "execution_count": 12,
     "metadata": {},
     "output_type": "execute_result"
    }
   ],
   "source": [
    "pp = data1[data1[\"OSHPD Project Status\"] == \"In Construction\"]\n",
    "pp.head()"
   ]
  },
  {
   "cell_type": "code",
   "execution_count": 16,
   "metadata": {},
   "outputs": [
    {
     "data": {
      "text/plain": [
       "Text(0.5, 1.0, 'the cost distribution of In Construction expenses')"
      ]
     },
     "execution_count": 16,
     "metadata": {},
     "output_type": "execute_result"
    },
    {
     "data": {
      "image/png": "[encoded data removed]",
      "text/plain": [
       "<Figure size 432x288 with 1 Axes>"
      ]
     },
     "metadata": {
      "needs_background": "light"
     },
     "output_type": "display_data"
    }
   ],
   "source": [
    "plt.plot(pp[\"Total Costs of OSHPD Projects\"])\n",
    "plt.xlabel(\"cost range\")\n",
    "plt.ylabel(\"years\")\n",
    "plt.title(\"the cost distribution of In Construction expenses\")"
   ]
  },
  {
   "cell_type": "code",
   "execution_count": 18,
   "metadata": {},
   "outputs": [
    {
     "data": {
      "text/html": [
       "<div>\n",
       "<style scoped>\n",
       "    .dataframe tbody tr th:only-of-type {\n",
       "        vertical-align: middle;\n",
       "    }\n",
       "\n",
       "    .dataframe tbody tr th {\n",
       "        vertical-align: top;\n",
       "    }\n",
       "\n",
       "    .dataframe thead th {\n",
       "        text-align: right;\n",
       "    }\n",
       "</style>\n",
       "<table border=\"1\" class=\"dataframe\">\n",
       "  <thead>\n",
       "    <tr style=\"text-align: right;\">\n",
       "      <th></th>\n",
       "      <th>County</th>\n",
       "      <th>Data Generation Date</th>\n",
       "      <th>OSHPD Project Status</th>\n",
       "      <th>Total Costs of OSHPD Projects</th>\n",
       "      <th>Number of OSHPD Projects</th>\n",
       "      <th>Collection of Counties</th>\n",
       "    </tr>\n",
       "  </thead>\n",
       "  <tbody>\n",
       "    <tr>\n",
       "      <th>1</th>\n",
       "      <td>01 - Alameda</td>\n",
       "      <td>9/30/2013</td>\n",
       "      <td>Pending Construction</td>\n",
       "      <td>8.401825e+08</td>\n",
       "      <td>126</td>\n",
       "      <td>Bay Area Counties</td>\n",
       "    </tr>\n",
       "    <tr>\n",
       "      <th>5</th>\n",
       "      <td>02 - Alpine</td>\n",
       "      <td>9/30/2013</td>\n",
       "      <td>Pending Construction</td>\n",
       "      <td>0.000000e+00</td>\n",
       "      <td>0</td>\n",
       "      <td>NaN</td>\n",
       "    </tr>\n",
       "    <tr>\n",
       "      <th>9</th>\n",
       "      <td>03 - Amador</td>\n",
       "      <td>9/30/2013</td>\n",
       "      <td>Pending Construction</td>\n",
       "      <td>0.000000e+00</td>\n",
       "      <td>0</td>\n",
       "      <td>NaN</td>\n",
       "    </tr>\n",
       "    <tr>\n",
       "      <th>13</th>\n",
       "      <td>04 - Butte</td>\n",
       "      <td>9/30/2013</td>\n",
       "      <td>Pending Construction</td>\n",
       "      <td>2.844883e+06</td>\n",
       "      <td>6</td>\n",
       "      <td>NaN</td>\n",
       "    </tr>\n",
       "    <tr>\n",
       "      <th>17</th>\n",
       "      <td>05 - Calaveras</td>\n",
       "      <td>9/30/2013</td>\n",
       "      <td>Pending Construction</td>\n",
       "      <td>4.250000e+04</td>\n",
       "      <td>1</td>\n",
       "      <td>NaN</td>\n",
       "    </tr>\n",
       "  </tbody>\n",
       "</table>\n",
       "</div>"
      ],
      "text/plain": [
       "            County Data Generation Date  OSHPD Project Status  \\\n",
       "1     01 - Alameda            9/30/2013  Pending Construction   \n",
       "5      02 - Alpine            9/30/2013  Pending Construction   \n",
       "9      03 - Amador            9/30/2013  Pending Construction   \n",
       "13      04 - Butte            9/30/2013  Pending Construction   \n",
       "17  05 - Calaveras            9/30/2013  Pending Construction   \n",
       "\n",
       "    Total Costs of OSHPD Projects  Number of OSHPD Projects  \\\n",
       "1                    8.401825e+08                       126   \n",
       "5                    0.000000e+00                         0   \n",
       "9                    0.000000e+00                         0   \n",
       "13                   2.844883e+06                         6   \n",
       "17                   4.250000e+04                         1   \n",
       "\n",
       "   Collection of Counties  \n",
       "1       Bay Area Counties  \n",
       "5                     NaN  \n",
       "9                     NaN  \n",
       "13                    NaN  \n",
       "17                    NaN  "
      ]
     },
     "execution_count": 18,
     "metadata": {},
     "output_type": "execute_result"
    }
   ],
   "source": [
    "ppq = data1[data1[\"OSHPD Project Status\"] == \"Pending Construction\"]\n",
    "ppq.head()"
   ]
  },
  {
   "cell_type": "code",
   "execution_count": 20,
   "metadata": {},
   "outputs": [
    {
     "data": {
      "text/plain": [
       "Text(0.5, 1.0, 'the cost distribution of Pending Construction expenses')"
      ]
     },
     "execution_count": 20,
     "metadata": {},
     "output_type": "execute_result"
    },
    {
     "data": {
      "image/png": "[encoded data removed]",
      "text/plain": [
       "<Figure size 432x288 with 1 Axes>"
      ]
     },
     "metadata": {
      "needs_background": "light"
     },
     "output_type": "display_data"
    }
   ],
   "source": [
    "plt.plot(ppq[\"Total Costs of OSHPD Projects\"])\n",
    "plt.xlabel(\"cost range\")\n",
    "plt.ylabel(\"years\")\n",
    "plt.title(\"the cost distribution of Pending Construction expenses\")"
   ]
  },
  {
   "cell_type": "code",
   "execution_count": null,
   "metadata": {},
   "outputs": [],
   "source": []
  }
 ],
 "metadata": {
  "kernelspec": {
   "display_name": "Python 3",
   "language": "python",
   "name": "python3"
  },
  "language_info": {
   "codemirror_mode": {
    "name": "ipython",
    "version": 3
   },
   "file_extension": ".py",
   "mimetype": "text/x-python",
   "name": "python",
   "nbconvert_exporter": "python",
   "pygments_lexer": "ipython3",
   "version": "3.7.6"
  }
 },
 "nbformat": 4,
 "nbformat_minor": 4
}
